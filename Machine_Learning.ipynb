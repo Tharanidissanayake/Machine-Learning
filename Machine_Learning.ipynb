{
  "nbformat": 4,
  "nbformat_minor": 0,
  "metadata": {
    "colab": {
      "provenance": [],
      "include_colab_link": true
    },
    "kernelspec": {
      "name": "python3",
      "display_name": "Python 3"
    },
    "language_info": {
      "name": "python"
    }
  },
  "cells": [
    {
      "cell_type": "markdown",
      "metadata": {
        "id": "view-in-github",
        "colab_type": "text"
      },
      "source": [
        "<a href=\"https://colab.research.google.com/github/Tharanidissanayake/Machine-Learning/blob/main/Machine_Learning.ipynb\" target=\"_parent\"><img src=\"https://colab.research.google.com/assets/colab-badge.svg\" alt=\"Open In Colab\"/></a>"
      ]
    },
    {
      "cell_type": "markdown",
      "source": [
        "# Import Libraries"
      ],
      "metadata": {
        "id": "dINdEjsDTwCA"
      }
    },
    {
      "cell_type": "code",
      "source": [
        "import pandas as pd\n",
        "import numpy as np\n",
        "from sklearn.model_selection import train_test_split\n",
        "from sklearn.neighbors import KNeighborsClassifier\n",
        "from sklearn.tree import DecisionTreeClassifier\n",
        "from sklearn.metrics import accuracy_score, precision_score, recall_score, f1_score\n",
        "import matplotlib.pyplot as plt\n",
        "import urllib.request"
      ],
      "metadata": {
        "id": "5mHcYRHWT4oA"
      },
      "execution_count": 8,
      "outputs": []
    },
    {
      "cell_type": "markdown",
      "source": [
        "# Load the Dataset"
      ],
      "metadata": {
        "collapsed": false,
        "id": "xrLwcqkF1Z6m"
      }
    },
    {
      "cell_type": "code",
      "execution_count": 9,
      "outputs": [],
      "source": [
        "data = pd.read_csv('https://archive.ics.uci.edu/ml/machine-learning-databases/spambase/spambase.data', header=None)"
      ],
      "metadata": {
        "id": "P7gzwQdz1Z6n"
      }
    },
    {
      "cell_type": "markdown",
      "source": [
        "# Load the names from names folder"
      ],
      "metadata": {
        "id": "lO8oOtN81dAc"
      }
    },
    {
      "cell_type": "code",
      "source": [
        "# Load the names\n",
        "url_names = 'https://archive.ics.uci.edu/ml/machine-learning-databases/spambase/spambase.names'\n",
        "names = pd.read_csv(url_names, skiprows=31, header=None, sep=':', names=['feature_name', 'description'])\n",
        "\n",
        "# Extract the names of the columns\n",
        "column_names = list(names['feature_name'])\n",
        "\n",
        "# Add the column names to the data\n",
        "data.columns = column_names\n",
        "\n",
        "# View the combined data and names\n",
        "print(data.head())"
      ],
      "metadata": {
        "id": "CN83FmhP1b_v",
        "outputId": "32ff2ecb-d4e8-4da7-f15a-d252e8a09f81",
        "colab": {
          "base_uri": "https://localhost:8080/"
        }
      },
      "execution_count": 13,
      "outputs": [
        {
          "output_type": "stream",
          "name": "stdout",
          "text": [
            "   1, 0.    | spam, non-spam classes  word_freq_make  word_freq_address  \\\n",
            "0                               0.00            0.64               0.64   \n",
            "1                               0.21            0.28               0.50   \n",
            "2                               0.06            0.00               0.71   \n",
            "3                               0.00            0.00               0.00   \n",
            "4                               0.00            0.00               0.00   \n",
            "\n",
            "   word_freq_all  word_freq_3d  word_freq_our  word_freq_over  \\\n",
            "0            0.0          0.32           0.00            0.00   \n",
            "1            0.0          0.14           0.28            0.21   \n",
            "2            0.0          1.23           0.19            0.19   \n",
            "3            0.0          0.63           0.00            0.31   \n",
            "4            0.0          0.63           0.00            0.31   \n",
            "\n",
            "   word_freq_remove  word_freq_internet  word_freq_order  ...  \\\n",
            "0              0.00                0.00             0.00  ...   \n",
            "1              0.07                0.00             0.94  ...   \n",
            "2              0.12                0.64             0.25  ...   \n",
            "3              0.63                0.31             0.63  ...   \n",
            "4              0.63                0.31             0.63  ...   \n",
            "\n",
            "   word_freq_conference  char_freq_;  char_freq_(  char_freq_[  char_freq_!  \\\n",
            "0                  0.00        0.000          0.0        0.778        0.000   \n",
            "1                  0.00        0.132          0.0        0.372        0.180   \n",
            "2                  0.01        0.143          0.0        0.276        0.184   \n",
            "3                  0.00        0.137          0.0        0.137        0.000   \n",
            "4                  0.00        0.135          0.0        0.135        0.000   \n",
            "\n",
            "   char_freq_$  char_freq_#  capital_run_length_average  \\\n",
            "0        0.000        3.756                          61   \n",
            "1        0.048        5.114                         101   \n",
            "2        0.010        9.821                         485   \n",
            "3        0.000        3.537                          40   \n",
            "4        0.000        3.537                          40   \n",
            "\n",
            "   capital_run_length_longest  capital_run_length_total  \n",
            "0                         278                         1  \n",
            "1                        1028                         1  \n",
            "2                        2259                         1  \n",
            "3                         191                         1  \n",
            "4                         191                         1  \n",
            "\n",
            "[5 rows x 58 columns]\n"
          ]
        }
      ]
    },
    {
      "cell_type": "markdown",
      "source": [
        "# Shuffle the Dataset"
      ],
      "metadata": {
        "collapsed": false,
        "id": "HhVYgc5I1Z6o"
      }
    },
    {
      "cell_type": "code",
      "execution_count": 14,
      "outputs": [],
      "source": [
        "data = data.sample(frac=1, random_state=42)"
      ],
      "metadata": {
        "id": "n3g5EGAH1Z6p"
      }
    },
    {
      "cell_type": "markdown",
      "source": [
        "# Split the Data into Training and Testing Sets"
      ],
      "metadata": {
        "collapsed": false,
        "id": "4k8B0JuA1Z6q"
      }
    },
    {
      "cell_type": "code",
      "execution_count": 15,
      "outputs": [],
      "source": [
        "X = data.iloc[:, :-1].values\n",
        "y = data.iloc[:, -1].values\n",
        "X_train, X_test, y_train, y_test = train_test_split(X, y, test_size=0.3, random_state=42)"
      ],
      "metadata": {
        "id": "vFbtQKGp1Z6r"
      }
    },
    {
      "cell_type": "markdown",
      "source": [
        "# Normalize the Data"
      ],
      "metadata": {
        "collapsed": false,
        "id": "dwrsZIoh1Z6s"
      }
    },
    {
      "cell_type": "code",
      "execution_count": 16,
      "outputs": [],
      "source": [
        "from sklearn.preprocessing import StandardScaler\n",
        "\n",
        "scaler = StandardScaler()\n",
        "X_train = scaler.fit_transform(X_train)\n",
        "X_test = scaler.transform(X_test)"
      ],
      "metadata": {
        "id": "RsmESIDy1Z6s"
      }
    },
    {
      "cell_type": "markdown",
      "source": [
        "# Check for Missing Values"
      ],
      "metadata": {
        "collapsed": false,
        "id": "WH_lJLfu1Z6u"
      }
    },
    {
      "cell_type": "code",
      "execution_count": 17,
      "outputs": [
        {
          "output_type": "stream",
          "name": "stdout",
          "text": [
            "1, 0.    | spam, non-spam classes    0\n",
            "word_freq_make                       0\n",
            "word_freq_address                    0\n",
            "word_freq_all                        0\n",
            "word_freq_3d                         0\n",
            "word_freq_our                        0\n",
            "word_freq_over                       0\n",
            "word_freq_remove                     0\n",
            "word_freq_internet                   0\n",
            "word_freq_order                      0\n",
            "word_freq_mail                       0\n",
            "word_freq_receive                    0\n",
            "word_freq_will                       0\n",
            "word_freq_people                     0\n",
            "word_freq_report                     0\n",
            "word_freq_addresses                  0\n",
            "word_freq_free                       0\n",
            "word_freq_business                   0\n",
            "word_freq_email                      0\n",
            "word_freq_you                        0\n",
            "word_freq_credit                     0\n",
            "word_freq_your                       0\n",
            "word_freq_font                       0\n",
            "word_freq_000                        0\n",
            "word_freq_money                      0\n",
            "word_freq_hp                         0\n",
            "word_freq_hpl                        0\n",
            "word_freq_george                     0\n",
            "word_freq_650                        0\n",
            "word_freq_lab                        0\n",
            "word_freq_labs                       0\n",
            "word_freq_telnet                     0\n",
            "word_freq_857                        0\n",
            "word_freq_data                       0\n",
            "word_freq_415                        0\n",
            "word_freq_85                         0\n",
            "word_freq_technology                 0\n",
            "word_freq_1999                       0\n",
            "word_freq_parts                      0\n",
            "word_freq_pm                         0\n",
            "word_freq_direct                     0\n",
            "word_freq_cs                         0\n",
            "word_freq_meeting                    0\n",
            "word_freq_original                   0\n",
            "word_freq_project                    0\n",
            "word_freq_re                         0\n",
            "word_freq_edu                        0\n",
            "word_freq_table                      0\n",
            "word_freq_conference                 0\n",
            "char_freq_;                          0\n",
            "char_freq_(                          0\n",
            "char_freq_[                          0\n",
            "char_freq_!                          0\n",
            "char_freq_$                          0\n",
            "char_freq_#                          0\n",
            "capital_run_length_average           0\n",
            "capital_run_length_longest           0\n",
            "capital_run_length_total             0\n",
            "dtype: int64\n"
          ]
        }
      ],
      "source": [
        "print(data.isnull().sum())"
      ],
      "metadata": {
        "id": "Y-9fPROH1Z6u",
        "outputId": "22b5d3e9-479d-4d9b-9067-686201ca903c",
        "colab": {
          "base_uri": "https://localhost:8080/"
        }
      }
    },
    {
      "cell_type": "markdown",
      "source": [
        "# Feature Engineering"
      ],
      "metadata": {
        "collapsed": false,
        "id": "SbEGDc1H1Z6y"
      }
    },
    {
      "cell_type": "code",
      "execution_count": 18,
      "outputs": [],
      "source": [
        "data['email_length'] = data.iloc[:, :-1].sum(axis=1)\n"
      ],
      "metadata": {
        "id": "vC2Ln5Q81Z6z"
      }
    },
    {
      "cell_type": "markdown",
      "source": [
        "# Train the KNN Model"
      ],
      "metadata": {
        "collapsed": false,
        "id": "knNAujWM1Z60"
      }
    },
    {
      "cell_type": "code",
      "execution_count": 19,
      "outputs": [
        {
          "output_type": "execute_result",
          "data": {
            "text/plain": [
              "KNeighborsClassifier()"
            ],
            "text/html": [
              "<style>#sk-container-id-1 {color: black;background-color: white;}#sk-container-id-1 pre{padding: 0;}#sk-container-id-1 div.sk-toggleable {background-color: white;}#sk-container-id-1 label.sk-toggleable__label {cursor: pointer;display: block;width: 100%;margin-bottom: 0;padding: 0.3em;box-sizing: border-box;text-align: center;}#sk-container-id-1 label.sk-toggleable__label-arrow:before {content: \"▸\";float: left;margin-right: 0.25em;color: #696969;}#sk-container-id-1 label.sk-toggleable__label-arrow:hover:before {color: black;}#sk-container-id-1 div.sk-estimator:hover label.sk-toggleable__label-arrow:before {color: black;}#sk-container-id-1 div.sk-toggleable__content {max-height: 0;max-width: 0;overflow: hidden;text-align: left;background-color: #f0f8ff;}#sk-container-id-1 div.sk-toggleable__content pre {margin: 0.2em;color: black;border-radius: 0.25em;background-color: #f0f8ff;}#sk-container-id-1 input.sk-toggleable__control:checked~div.sk-toggleable__content {max-height: 200px;max-width: 100%;overflow: auto;}#sk-container-id-1 input.sk-toggleable__control:checked~label.sk-toggleable__label-arrow:before {content: \"▾\";}#sk-container-id-1 div.sk-estimator input.sk-toggleable__control:checked~label.sk-toggleable__label {background-color: #d4ebff;}#sk-container-id-1 div.sk-label input.sk-toggleable__control:checked~label.sk-toggleable__label {background-color: #d4ebff;}#sk-container-id-1 input.sk-hidden--visually {border: 0;clip: rect(1px 1px 1px 1px);clip: rect(1px, 1px, 1px, 1px);height: 1px;margin: -1px;overflow: hidden;padding: 0;position: absolute;width: 1px;}#sk-container-id-1 div.sk-estimator {font-family: monospace;background-color: #f0f8ff;border: 1px dotted black;border-radius: 0.25em;box-sizing: border-box;margin-bottom: 0.5em;}#sk-container-id-1 div.sk-estimator:hover {background-color: #d4ebff;}#sk-container-id-1 div.sk-parallel-item::after {content: \"\";width: 100%;border-bottom: 1px solid gray;flex-grow: 1;}#sk-container-id-1 div.sk-label:hover label.sk-toggleable__label {background-color: #d4ebff;}#sk-container-id-1 div.sk-serial::before {content: \"\";position: absolute;border-left: 1px solid gray;box-sizing: border-box;top: 0;bottom: 0;left: 50%;z-index: 0;}#sk-container-id-1 div.sk-serial {display: flex;flex-direction: column;align-items: center;background-color: white;padding-right: 0.2em;padding-left: 0.2em;position: relative;}#sk-container-id-1 div.sk-item {position: relative;z-index: 1;}#sk-container-id-1 div.sk-parallel {display: flex;align-items: stretch;justify-content: center;background-color: white;position: relative;}#sk-container-id-1 div.sk-item::before, #sk-container-id-1 div.sk-parallel-item::before {content: \"\";position: absolute;border-left: 1px solid gray;box-sizing: border-box;top: 0;bottom: 0;left: 50%;z-index: -1;}#sk-container-id-1 div.sk-parallel-item {display: flex;flex-direction: column;z-index: 1;position: relative;background-color: white;}#sk-container-id-1 div.sk-parallel-item:first-child::after {align-self: flex-end;width: 50%;}#sk-container-id-1 div.sk-parallel-item:last-child::after {align-self: flex-start;width: 50%;}#sk-container-id-1 div.sk-parallel-item:only-child::after {width: 0;}#sk-container-id-1 div.sk-dashed-wrapped {border: 1px dashed gray;margin: 0 0.4em 0.5em 0.4em;box-sizing: border-box;padding-bottom: 0.4em;background-color: white;}#sk-container-id-1 div.sk-label label {font-family: monospace;font-weight: bold;display: inline-block;line-height: 1.2em;}#sk-container-id-1 div.sk-label-container {text-align: center;}#sk-container-id-1 div.sk-container {/* jupyter's `normalize.less` sets `[hidden] { display: none; }` but bootstrap.min.css set `[hidden] { display: none !important; }` so we also need the `!important` here to be able to override the default hidden behavior on the sphinx rendered scikit-learn.org. See: https://github.com/scikit-learn/scikit-learn/issues/21755 */display: inline-block !important;position: relative;}#sk-container-id-1 div.sk-text-repr-fallback {display: none;}</style><div id=\"sk-container-id-1\" class=\"sk-top-container\"><div class=\"sk-text-repr-fallback\"><pre>KNeighborsClassifier()</pre><b>In a Jupyter environment, please rerun this cell to show the HTML representation or trust the notebook. <br />On GitHub, the HTML representation is unable to render, please try loading this page with nbviewer.org.</b></div><div class=\"sk-container\" hidden><div class=\"sk-item\"><div class=\"sk-estimator sk-toggleable\"><input class=\"sk-toggleable__control sk-hidden--visually\" id=\"sk-estimator-id-1\" type=\"checkbox\" checked><label for=\"sk-estimator-id-1\" class=\"sk-toggleable__label sk-toggleable__label-arrow\">KNeighborsClassifier</label><div class=\"sk-toggleable__content\"><pre>KNeighborsClassifier()</pre></div></div></div></div></div>"
            ]
          },
          "metadata": {},
          "execution_count": 19
        }
      ],
      "source": [
        "knn = KNeighborsClassifier(n_neighbors=5)\n",
        "knn.fit(X_train, y_train)"
      ],
      "metadata": {
        "id": "6ilN2UZ91Z62",
        "outputId": "a350b2ce-8b04-4f92-951a-63b9fc183a9b",
        "colab": {
          "base_uri": "https://localhost:8080/",
          "height": 75
        }
      }
    },
    {
      "cell_type": "markdown",
      "source": [
        "# Predict the test set labels"
      ],
      "metadata": {
        "collapsed": false,
        "id": "T2cwM_Kq1Z64"
      }
    },
    {
      "cell_type": "code",
      "execution_count": 20,
      "outputs": [],
      "source": [
        "y_pred_knn = knn.predict(X_test)"
      ],
      "metadata": {
        "id": "rWUKiGXT1Z65"
      }
    },
    {
      "cell_type": "markdown",
      "source": [
        "# Evaluate the Performance of the KNN model"
      ],
      "metadata": {
        "collapsed": false,
        "id": "p2lggRxH1Z66"
      }
    },
    {
      "cell_type": "code",
      "execution_count": 21,
      "outputs": [
        {
          "output_type": "stream",
          "name": "stdout",
          "text": [
            "KNN Model Performance:\n",
            "Accuracy: 0.912\n",
            "Precision: 0.914\n",
            "Recall: 0.865\n",
            "F1 Score: 0.889\n"
          ]
        }
      ],
      "source": [
        "accuracy = accuracy_score(y_test, y_pred_knn)\n",
        "precision = precision_score(y_test, y_pred_knn)\n",
        "recall = recall_score(y_test, y_pred_knn)\n",
        "f1 = f1_score(y_test, y_pred_knn)\n",
        "\n",
        "print(\"KNN Model Performance:\")\n",
        "print(\"Accuracy: {:.3f}\".format(accuracy))\n",
        "print(\"Precision: {:.3f}\".format(precision))\n",
        "print(\"Recall: {:.3f}\".format(recall))\n",
        "print(\"F1 Score: {:.3f}\".format(f1))"
      ],
      "metadata": {
        "id": "Ba-s_8tI1Z67",
        "outputId": "85ef493b-c43a-4433-d8cd-f7a106e5cae8",
        "colab": {
          "base_uri": "https://localhost:8080/"
        }
      }
    },
    {
      "cell_type": "markdown",
      "source": [
        "# Train the Decision Tree model"
      ],
      "metadata": {
        "collapsed": false,
        "id": "mhUgtZin1Z68"
      }
    },
    {
      "cell_type": "code",
      "execution_count": 22,
      "outputs": [
        {
          "output_type": "execute_result",
          "data": {
            "text/plain": [
              "DecisionTreeClassifier(random_state=42)"
            ],
            "text/html": [
              "<style>#sk-container-id-2 {color: black;background-color: white;}#sk-container-id-2 pre{padding: 0;}#sk-container-id-2 div.sk-toggleable {background-color: white;}#sk-container-id-2 label.sk-toggleable__label {cursor: pointer;display: block;width: 100%;margin-bottom: 0;padding: 0.3em;box-sizing: border-box;text-align: center;}#sk-container-id-2 label.sk-toggleable__label-arrow:before {content: \"▸\";float: left;margin-right: 0.25em;color: #696969;}#sk-container-id-2 label.sk-toggleable__label-arrow:hover:before {color: black;}#sk-container-id-2 div.sk-estimator:hover label.sk-toggleable__label-arrow:before {color: black;}#sk-container-id-2 div.sk-toggleable__content {max-height: 0;max-width: 0;overflow: hidden;text-align: left;background-color: #f0f8ff;}#sk-container-id-2 div.sk-toggleable__content pre {margin: 0.2em;color: black;border-radius: 0.25em;background-color: #f0f8ff;}#sk-container-id-2 input.sk-toggleable__control:checked~div.sk-toggleable__content {max-height: 200px;max-width: 100%;overflow: auto;}#sk-container-id-2 input.sk-toggleable__control:checked~label.sk-toggleable__label-arrow:before {content: \"▾\";}#sk-container-id-2 div.sk-estimator input.sk-toggleable__control:checked~label.sk-toggleable__label {background-color: #d4ebff;}#sk-container-id-2 div.sk-label input.sk-toggleable__control:checked~label.sk-toggleable__label {background-color: #d4ebff;}#sk-container-id-2 input.sk-hidden--visually {border: 0;clip: rect(1px 1px 1px 1px);clip: rect(1px, 1px, 1px, 1px);height: 1px;margin: -1px;overflow: hidden;padding: 0;position: absolute;width: 1px;}#sk-container-id-2 div.sk-estimator {font-family: monospace;background-color: #f0f8ff;border: 1px dotted black;border-radius: 0.25em;box-sizing: border-box;margin-bottom: 0.5em;}#sk-container-id-2 div.sk-estimator:hover {background-color: #d4ebff;}#sk-container-id-2 div.sk-parallel-item::after {content: \"\";width: 100%;border-bottom: 1px solid gray;flex-grow: 1;}#sk-container-id-2 div.sk-label:hover label.sk-toggleable__label {background-color: #d4ebff;}#sk-container-id-2 div.sk-serial::before {content: \"\";position: absolute;border-left: 1px solid gray;box-sizing: border-box;top: 0;bottom: 0;left: 50%;z-index: 0;}#sk-container-id-2 div.sk-serial {display: flex;flex-direction: column;align-items: center;background-color: white;padding-right: 0.2em;padding-left: 0.2em;position: relative;}#sk-container-id-2 div.sk-item {position: relative;z-index: 1;}#sk-container-id-2 div.sk-parallel {display: flex;align-items: stretch;justify-content: center;background-color: white;position: relative;}#sk-container-id-2 div.sk-item::before, #sk-container-id-2 div.sk-parallel-item::before {content: \"\";position: absolute;border-left: 1px solid gray;box-sizing: border-box;top: 0;bottom: 0;left: 50%;z-index: -1;}#sk-container-id-2 div.sk-parallel-item {display: flex;flex-direction: column;z-index: 1;position: relative;background-color: white;}#sk-container-id-2 div.sk-parallel-item:first-child::after {align-self: flex-end;width: 50%;}#sk-container-id-2 div.sk-parallel-item:last-child::after {align-self: flex-start;width: 50%;}#sk-container-id-2 div.sk-parallel-item:only-child::after {width: 0;}#sk-container-id-2 div.sk-dashed-wrapped {border: 1px dashed gray;margin: 0 0.4em 0.5em 0.4em;box-sizing: border-box;padding-bottom: 0.4em;background-color: white;}#sk-container-id-2 div.sk-label label {font-family: monospace;font-weight: bold;display: inline-block;line-height: 1.2em;}#sk-container-id-2 div.sk-label-container {text-align: center;}#sk-container-id-2 div.sk-container {/* jupyter's `normalize.less` sets `[hidden] { display: none; }` but bootstrap.min.css set `[hidden] { display: none !important; }` so we also need the `!important` here to be able to override the default hidden behavior on the sphinx rendered scikit-learn.org. See: https://github.com/scikit-learn/scikit-learn/issues/21755 */display: inline-block !important;position: relative;}#sk-container-id-2 div.sk-text-repr-fallback {display: none;}</style><div id=\"sk-container-id-2\" class=\"sk-top-container\"><div class=\"sk-text-repr-fallback\"><pre>DecisionTreeClassifier(random_state=42)</pre><b>In a Jupyter environment, please rerun this cell to show the HTML representation or trust the notebook. <br />On GitHub, the HTML representation is unable to render, please try loading this page with nbviewer.org.</b></div><div class=\"sk-container\" hidden><div class=\"sk-item\"><div class=\"sk-estimator sk-toggleable\"><input class=\"sk-toggleable__control sk-hidden--visually\" id=\"sk-estimator-id-2\" type=\"checkbox\" checked><label for=\"sk-estimator-id-2\" class=\"sk-toggleable__label sk-toggleable__label-arrow\">DecisionTreeClassifier</label><div class=\"sk-toggleable__content\"><pre>DecisionTreeClassifier(random_state=42)</pre></div></div></div></div></div>"
            ]
          },
          "metadata": {},
          "execution_count": 22
        }
      ],
      "source": [
        "dt = DecisionTreeClassifier(random_state=42)\n",
        "dt.fit(X_train, y_train)"
      ],
      "metadata": {
        "id": "Hv92oZd21Z69",
        "outputId": "c46965b2-7603-44ca-bfaa-2365a2feea33",
        "colab": {
          "base_uri": "https://localhost:8080/",
          "height": 75
        }
      }
    },
    {
      "cell_type": "markdown",
      "source": [
        "# Predict the test set labels"
      ],
      "metadata": {
        "collapsed": false,
        "id": "PsyuLWqQ1Z6-"
      }
    },
    {
      "cell_type": "code",
      "execution_count": 23,
      "outputs": [],
      "source": [
        "y_pred_dt = dt.predict(X_test)"
      ],
      "metadata": {
        "id": "bM8JAQ8p1Z6-"
      }
    },
    {
      "cell_type": "markdown",
      "source": [
        "# Evaluate the Performance of the Decision Tree model"
      ],
      "metadata": {
        "collapsed": false,
        "id": "ntE2F5-I1Z6_"
      }
    },
    {
      "cell_type": "code",
      "execution_count": 24,
      "outputs": [
        {
          "output_type": "stream",
          "name": "stdout",
          "text": [
            "Decision Tree Model Performance:\n",
            "Accuracy: 0.912\n",
            "Precision: 0.896\n",
            "Recall: 0.888\n",
            "F1 Score: 0.892\n"
          ]
        }
      ],
      "source": [
        "accuracy = accuracy_score(y_test, y_pred_dt)\n",
        "precision = precision_score(y_test, y_pred_dt)\n",
        "recall = recall_score(y_test, y_pred_dt)\n",
        "f1 = f1_score(y_test, y_pred_dt)\n",
        "\n",
        "print(\"Decision Tree Model Performance:\")\n",
        "print(\"Accuracy: {:.3f}\".format(accuracy))\n",
        "print(\"Precision: {:.3f}\".format(precision))\n",
        "print(\"Recall: {:.3f}\".format(recall))\n",
        "print(\"F1 Score: {:.3f}\".format(f1))"
      ],
      "metadata": {
        "id": "VZZGd_l61Z6_",
        "outputId": "4a8bef9d-204c-4cf8-e7e5-720e5f0f0a82",
        "colab": {
          "base_uri": "https://localhost:8080/"
        }
      }
    },
    {
      "cell_type": "markdown",
      "source": [],
      "metadata": {
        "collapsed": false,
        "id": "5a9jBM3Z1Z7A"
      }
    }
  ]
}